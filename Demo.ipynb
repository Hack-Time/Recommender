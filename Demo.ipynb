{
 "cells": [
  {
   "cell_type": "code",
   "execution_count": null,
   "metadata": {},
   "outputs": [],
   "source": [
    "# from surprise import Reader, Dataset\n",
    "# # Define the format\n",
    "# reader = Reader(line_format='user item rating', sep='\\t')\n",
    "# # Load the data from the file using the reader format\n",
    "# data = Dataset.load_from_file('/Users/kingcos/Documents/GitHub/DataCrawler/data/content', reader=reader)\n",
    "\n",
    "# # Split data into 5 folds\n",
    "# data.split(n_folds=5)\n",
    "\n",
    "# algo = SVD()\n",
    "\n",
    "# # model_selection.cross_validate()\n",
    "# evaluate(algo, data, measures=['RMSE', 'MAE'])\n",
    "\n",
    "# # Retrieve the trainset.\n",
    "# trainset = data.build_full_trainset()\n",
    "# algo.fit(trainset)\n",
    "\n"
   ]
  },
  {
   "cell_type": "code",
   "execution_count": null,
   "metadata": {},
   "outputs": [],
   "source": [
    "\n",
    "# userid = str(30036)\n",
    "# itemid = str(49040)\n",
    "# actual_rating = 4.18\n",
    "\n",
    "# print(algo.predict(userid, itemid, actual_rating))"
   ]
  },
  {
   "cell_type": "code",
   "execution_count": null,
   "metadata": {},
   "outputs": [],
   "source": [
    "# from surprise import BaselineOnly\n",
    "# from surprise import Dataset\n",
    "# from surprise import Reader\n",
    "# from surprise.model_selection import cross_validate\n",
    "# import os\n",
    "\n",
    "# # path to dataset file\n",
    "# file_path = os.path.expanduser('/Users/kingcos/Documents/GitHub/DataCrawler/data/content')\n",
    "\n",
    "# reader = Reader(line_format='user item rating', sep='\\t')\n",
    "\n",
    "# data = Dataset.load_from_file(file_path, reader=reader)\n",
    "\n",
    "# # We can now use this dataset as we please, e.g. calling cross_validate\n",
    "# cross_validate(BaselineOnly(), data, verbose=True)"
   ]
  },
  {
   "cell_type": "code",
   "execution_count": 4,
   "metadata": {},
   "outputs": [
    {
     "data": {
      "text/html": [
       "<pre>Finished parsing file /Users/kingcos/Documents/GitHub/DataCrawler/data/grades.csv</pre>"
      ],
      "text/plain": [
       "Finished parsing file /Users/kingcos/Documents/GitHub/DataCrawler/data/grades.csv"
      ]
     },
     "metadata": {},
     "output_type": "display_data"
    },
    {
     "data": {
      "text/html": [
       "<pre>Parsing completed. Parsed 100 lines in 0.011765 secs.</pre>"
      ],
      "text/plain": [
       "Parsing completed. Parsed 100 lines in 0.011765 secs."
      ]
     },
     "metadata": {},
     "output_type": "display_data"
    },
    {
     "name": "stdout",
     "output_type": "stream",
     "text": [
      "------------------------------------------------------\n",
      "Inferred types from first 100 line(s) of file as \n",
      "column_type_hints=[int,int,float]\n",
      "If parsing fails due to incorrect types, you can correct\n",
      "the inferred type list above and pass it to read_csv in\n",
      "the column_type_hints argument\n",
      "------------------------------------------------------\n"
     ]
    },
    {
     "data": {
      "text/html": [
       "<pre>Finished parsing file /Users/kingcos/Documents/GitHub/DataCrawler/data/grades.csv</pre>"
      ],
      "text/plain": [
       "Finished parsing file /Users/kingcos/Documents/GitHub/DataCrawler/data/grades.csv"
      ]
     },
     "metadata": {},
     "output_type": "display_data"
    },
    {
     "data": {
      "text/html": [
       "<pre>Parsing completed. Parsed 7430 lines in 0.010136 secs.</pre>"
      ],
      "text/plain": [
       "Parsing completed. Parsed 7430 lines in 0.010136 secs."
      ]
     },
     "metadata": {},
     "output_type": "display_data"
    },
    {
     "data": {
      "text/html": [
       "PHByZT5VbmFibGUgdG8gcGFyc2UgbGluZSAiNDcxODYsIumSoueQtOa8lOWlj+W3peS9nOWupDIiPC9wcmU+\n"
      ],
      "text/plain": [
       "VW5hYmxlIHRvIHBhcnNlIGxpbmUgIjQ3MTg2LCLpkqLnkLTmvJTlpY/lt6XkvZzlrqQyIg==\n"
      ]
     },
     "metadata": {},
     "output_type": "display_data"
    },
    {
     "data": {
      "text/html": [
       "PHByZT5VbmFibGUgdG8gcGFyc2UgbGluZSAi77yI5a2m5pyf77yJIizoibrmnK8iPC9wcmU+\n"
      ],
      "text/plain": [
       "VW5hYmxlIHRvIHBhcnNlIGxpbmUgIu+8iOWtpuacn++8iSIs6Im65pyvIg==\n"
      ]
     },
     "metadata": {},
     "output_type": "display_data"
    },
    {
     "data": {
      "text/html": [
       "<pre>2 lines failed to parse correctly</pre>"
      ],
      "text/plain": [
       "2 lines failed to parse correctly"
      ]
     },
     "metadata": {},
     "output_type": "display_data"
    },
    {
     "name": "stdout",
     "output_type": "stream",
     "text": [
      "------------------------------------------------------\n",
      "Inferred types from first 100 line(s) of file as \n",
      "column_type_hints=[int,str,str]\n",
      "If parsing fails due to incorrect types, you can correct\n",
      "the inferred type list above and pass it to read_csv in\n",
      "the column_type_hints argument\n",
      "------------------------------------------------------\n"
     ]
    },
    {
     "data": {
      "text/html": [
       "<pre>Finished parsing file /Users/kingcos/Documents/GitHub/DataCrawler/data/subjects.csv</pre>"
      ],
      "text/plain": [
       "Finished parsing file /Users/kingcos/Documents/GitHub/DataCrawler/data/subjects.csv"
      ]
     },
     "metadata": {},
     "output_type": "display_data"
    },
    {
     "data": {
      "text/html": [
       "<pre>Parsing completed. Parsed 100 lines in 0.010077 secs.</pre>"
      ],
      "text/plain": [
       "Parsing completed. Parsed 100 lines in 0.010077 secs."
      ]
     },
     "metadata": {},
     "output_type": "display_data"
    },
    {
     "data": {
      "text/html": [
       "PHByZT5VbmFibGUgdG8gcGFyc2UgbGluZSAiNDcxODYsIumSoueQtOa8lOWlj+W3peS9nOWupDIiPC9wcmU+\n"
      ],
      "text/plain": [
       "VW5hYmxlIHRvIHBhcnNlIGxpbmUgIjQ3MTg2LCLpkqLnkLTmvJTlpY/lt6XkvZzlrqQyIg==\n"
      ]
     },
     "metadata": {},
     "output_type": "display_data"
    },
    {
     "data": {
      "text/html": [
       "PHByZT5VbmFibGUgdG8gcGFyc2UgbGluZSAi77yI5a2m5pyf77yJIizoibrmnK8iPC9wcmU+\n"
      ],
      "text/plain": [
       "VW5hYmxlIHRvIHBhcnNlIGxpbmUgIu+8iOWtpuacn++8iSIs6Im65pyvIg==\n"
      ]
     },
     "metadata": {},
     "output_type": "display_data"
    },
    {
     "data": {
      "text/html": [
       "<pre>2 lines failed to parse correctly</pre>"
      ],
      "text/plain": [
       "2 lines failed to parse correctly"
      ]
     },
     "metadata": {},
     "output_type": "display_data"
    },
    {
     "data": {
      "text/html": [
       "<pre>Finished parsing file /Users/kingcos/Documents/GitHub/DataCrawler/data/subjects.csv</pre>"
      ],
      "text/plain": [
       "Finished parsing file /Users/kingcos/Documents/GitHub/DataCrawler/data/subjects.csv"
      ]
     },
     "metadata": {},
     "output_type": "display_data"
    },
    {
     "data": {
      "text/html": [
       "<pre>Parsing completed. Parsed 2155 lines in 0.010733 secs.</pre>"
      ],
      "text/plain": [
       "Parsing completed. Parsed 2155 lines in 0.010733 secs."
      ]
     },
     "metadata": {},
     "output_type": "display_data"
    },
    {
     "data": {
      "text/html": [
       "<pre>Recsys training: model = ranking_factorization_recommender</pre>"
      ],
      "text/plain": [
       "Recsys training: model = ranking_factorization_recommender"
      ]
     },
     "metadata": {},
     "output_type": "display_data"
    },
    {
     "data": {
      "text/html": [
       "<pre>Preparing data set.</pre>"
      ],
      "text/plain": [
       "Preparing data set."
      ]
     },
     "metadata": {},
     "output_type": "display_data"
    },
    {
     "data": {
      "text/html": [
       "<pre>    Data has 7430 observations with 95 users and 2363 items.</pre>"
      ],
      "text/plain": [
       "    Data has 7430 observations with 95 users and 2363 items."
      ]
     },
     "metadata": {},
     "output_type": "display_data"
    },
    {
     "data": {
      "text/html": [
       "<pre>    Data prepared in: 0.018991s</pre>"
      ],
      "text/plain": [
       "    Data prepared in: 0.018991s"
      ]
     },
     "metadata": {},
     "output_type": "display_data"
    },
    {
     "data": {
      "text/html": [
       "<pre>Training ranking_factorization_recommender for recommendations.</pre>"
      ],
      "text/plain": [
       "Training ranking_factorization_recommender for recommendations."
      ]
     },
     "metadata": {},
     "output_type": "display_data"
    },
    {
     "data": {
      "text/html": [
       "<pre>+--------------------------------+--------------------------------------------------+----------+</pre>"
      ],
      "text/plain": [
       "+--------------------------------+--------------------------------------------------+----------+"
      ]
     },
     "metadata": {},
     "output_type": "display_data"
    },
    {
     "data": {
      "text/html": [
       "<pre>| Parameter                      | Description                                      | Value    |</pre>"
      ],
      "text/plain": [
       "| Parameter                      | Description                                      | Value    |"
      ]
     },
     "metadata": {},
     "output_type": "display_data"
    },
    {
     "data": {
      "text/html": [
       "<pre>+--------------------------------+--------------------------------------------------+----------+</pre>"
      ],
      "text/plain": [
       "+--------------------------------+--------------------------------------------------+----------+"
      ]
     },
     "metadata": {},
     "output_type": "display_data"
    },
    {
     "data": {
      "text/html": [
       "<pre>| num_factors                    | Factor Dimension                                 | 32       |</pre>"
      ],
      "text/plain": [
       "| num_factors                    | Factor Dimension                                 | 32       |"
      ]
     },
     "metadata": {},
     "output_type": "display_data"
    },
    {
     "data": {
      "text/html": [
       "<pre>| regularization                 | L2 Regularization on Factors                     | 1e-09    |</pre>"
      ],
      "text/plain": [
       "| regularization                 | L2 Regularization on Factors                     | 1e-09    |"
      ]
     },
     "metadata": {},
     "output_type": "display_data"
    },
    {
     "data": {
      "text/html": [
       "<pre>| solver                         | Solver used for training                         | sgd      |</pre>"
      ],
      "text/plain": [
       "| solver                         | Solver used for training                         | sgd      |"
      ]
     },
     "metadata": {},
     "output_type": "display_data"
    },
    {
     "data": {
      "text/html": [
       "<pre>| linear_regularization          | L2 Regularization on Linear Coefficients         | 1e-09    |</pre>"
      ],
      "text/plain": [
       "| linear_regularization          | L2 Regularization on Linear Coefficients         | 1e-09    |"
      ]
     },
     "metadata": {},
     "output_type": "display_data"
    },
    {
     "data": {
      "text/html": [
       "<pre>| ranking_regularization         | Rank-based Regularization Weight                 | 0.25     |</pre>"
      ],
      "text/plain": [
       "| ranking_regularization         | Rank-based Regularization Weight                 | 0.25     |"
      ]
     },
     "metadata": {},
     "output_type": "display_data"
    },
    {
     "data": {
      "text/html": [
       "<pre>| max_iterations                 | Maximum Number of Iterations                     | 25       |</pre>"
      ],
      "text/plain": [
       "| max_iterations                 | Maximum Number of Iterations                     | 25       |"
      ]
     },
     "metadata": {},
     "output_type": "display_data"
    },
    {
     "data": {
      "text/html": [
       "<pre>+--------------------------------+--------------------------------------------------+----------+</pre>"
      ],
      "text/plain": [
       "+--------------------------------+--------------------------------------------------+----------+"
      ]
     },
     "metadata": {},
     "output_type": "display_data"
    },
    {
     "data": {
      "text/html": [
       "<pre>  Optimizing model using SGD; tuning step size.</pre>"
      ],
      "text/plain": [
       "  Optimizing model using SGD; tuning step size."
      ]
     },
     "metadata": {},
     "output_type": "display_data"
    },
    {
     "data": {
      "text/html": [
       "<pre>  Using 7430 / 7430 points for tuning the step size.</pre>"
      ],
      "text/plain": [
       "  Using 7430 / 7430 points for tuning the step size."
      ]
     },
     "metadata": {},
     "output_type": "display_data"
    },
    {
     "data": {
      "text/html": [
       "<pre>+---------+-------------------+------------------------------------------+</pre>"
      ],
      "text/plain": [
       "+---------+-------------------+------------------------------------------+"
      ]
     },
     "metadata": {},
     "output_type": "display_data"
    },
    {
     "data": {
      "text/html": [
       "<pre>| Attempt | Initial Step Size | Estimated Objective Value                |</pre>"
      ],
      "text/plain": [
       "| Attempt | Initial Step Size | Estimated Objective Value                |"
      ]
     },
     "metadata": {},
     "output_type": "display_data"
    },
    {
     "data": {
      "text/html": [
       "<pre>+---------+-------------------+------------------------------------------+</pre>"
      ],
      "text/plain": [
       "+---------+-------------------+------------------------------------------+"
      ]
     },
     "metadata": {},
     "output_type": "display_data"
    },
    {
     "data": {
      "text/html": [
       "<pre>| 0       | 25                | Not Viable                               |</pre>"
      ],
      "text/plain": [
       "| 0       | 25                | Not Viable                               |"
      ]
     },
     "metadata": {},
     "output_type": "display_data"
    },
    {
     "data": {
      "text/html": [
       "<pre>| 1       | 6.25              | Not Viable                               |</pre>"
      ],
      "text/plain": [
       "| 1       | 6.25              | Not Viable                               |"
      ]
     },
     "metadata": {},
     "output_type": "display_data"
    },
    {
     "data": {
      "text/html": [
       "<pre>| 2       | 1.5625            | Not Viable                               |</pre>"
      ],
      "text/plain": [
       "| 2       | 1.5625            | Not Viable                               |"
      ]
     },
     "metadata": {},
     "output_type": "display_data"
    },
    {
     "data": {
      "text/html": [
       "<pre>| 3       | 0.390625          | Not Viable                               |</pre>"
      ],
      "text/plain": [
       "| 3       | 0.390625          | Not Viable                               |"
      ]
     },
     "metadata": {},
     "output_type": "display_data"
    },
    {
     "data": {
      "text/html": [
       "<pre>| 4       | 0.0976562         | Not Viable                               |</pre>"
      ],
      "text/plain": [
       "| 4       | 0.0976562         | Not Viable                               |"
      ]
     },
     "metadata": {},
     "output_type": "display_data"
    },
    {
     "data": {
      "text/html": [
       "<pre>| 5       | 0.0244141         | 50.5072                                  |</pre>"
      ],
      "text/plain": [
       "| 5       | 0.0244141         | 50.5072                                  |"
      ]
     },
     "metadata": {},
     "output_type": "display_data"
    },
    {
     "data": {
      "text/html": [
       "<pre>| 6       | 0.012207          | 127.206                                  |</pre>"
      ],
      "text/plain": [
       "| 6       | 0.012207          | 127.206                                  |"
      ]
     },
     "metadata": {},
     "output_type": "display_data"
    },
    {
     "data": {
      "text/html": [
       "<pre>+---------+-------------------+------------------------------------------+</pre>"
      ],
      "text/plain": [
       "+---------+-------------------+------------------------------------------+"
      ]
     },
     "metadata": {},
     "output_type": "display_data"
    },
    {
     "data": {
      "text/html": [
       "<pre>| Final   | 0.0244141         | 50.5072                                  |</pre>"
      ],
      "text/plain": [
       "| Final   | 0.0244141         | 50.5072                                  |"
      ]
     },
     "metadata": {},
     "output_type": "display_data"
    },
    {
     "data": {
      "text/html": [
       "<pre>+---------+-------------------+------------------------------------------+</pre>"
      ],
      "text/plain": [
       "+---------+-------------------+------------------------------------------+"
      ]
     },
     "metadata": {},
     "output_type": "display_data"
    },
    {
     "data": {
      "text/html": [
       "<pre>Starting Optimization.</pre>"
      ],
      "text/plain": [
       "Starting Optimization."
      ]
     },
     "metadata": {},
     "output_type": "display_data"
    },
    {
     "data": {
      "text/html": [
       "<pre>+---------+--------------+-------------------+-----------------------+-------------+</pre>"
      ],
      "text/plain": [
       "+---------+--------------+-------------------+-----------------------+-------------+"
      ]
     },
     "metadata": {},
     "output_type": "display_data"
    },
    {
     "data": {
      "text/html": [
       "<pre>| Iter.   | Elapsed Time | Approx. Objective | Approx. Training RMSE | Step Size   |</pre>"
      ],
      "text/plain": [
       "| Iter.   | Elapsed Time | Approx. Objective | Approx. Training RMSE | Step Size   |"
      ]
     },
     "metadata": {},
     "output_type": "display_data"
    },
    {
     "data": {
      "text/html": [
       "<pre>+---------+--------------+-------------------+-----------------------+-------------+</pre>"
      ],
      "text/plain": [
       "+---------+--------------+-------------------+-----------------------+-------------+"
      ]
     },
     "metadata": {},
     "output_type": "display_data"
    },
    {
     "data": {
      "text/html": [
       "<pre>| Initial | 132us        | 194.067           | 9.94916               |             |</pre>"
      ],
      "text/plain": [
       "| Initial | 132us        | 194.067           | 9.94916               |             |"
      ]
     },
     "metadata": {},
     "output_type": "display_data"
    },
    {
     "data": {
      "text/html": [
       "<pre>+---------+--------------+-------------------+-----------------------+-------------+</pre>"
      ],
      "text/plain": [
       "+---------+--------------+-------------------+-----------------------+-------------+"
      ]
     },
     "metadata": {},
     "output_type": "display_data"
    },
    {
     "data": {
      "text/html": [
       "<pre>| 1       | 40.825ms     | 159.384           | 9.40777               | 0.0244141   |</pre>"
      ],
      "text/plain": [
       "| 1       | 40.825ms     | 159.384           | 9.40777               | 0.0244141   |"
      ]
     },
     "metadata": {},
     "output_type": "display_data"
    },
    {
     "data": {
      "text/html": [
       "<pre>| 2       | 51.162ms     | 134.086           | 8.50554               | 0.0145167   |</pre>"
      ],
      "text/plain": [
       "| 2       | 51.162ms     | 134.086           | 8.50554               | 0.0145167   |"
      ]
     },
     "metadata": {},
     "output_type": "display_data"
    },
    {
     "data": {
      "text/html": [
       "<pre>| 3       | 60.877ms     | 109.174           | 6.80573               | 0.0107102   |</pre>"
      ],
      "text/plain": [
       "| 3       | 60.877ms     | 109.174           | 6.80573               | 0.0107102   |"
      ]
     },
     "metadata": {},
     "output_type": "display_data"
    },
    {
     "data": {
      "text/html": [
       "<pre>| 4       | 90.246ms     | 80.3563           | 5.0935                | 0.00863167  |</pre>"
      ],
      "text/plain": [
       "| 4       | 90.246ms     | 80.3563           | 5.0935                | 0.00863167  |"
      ]
     },
     "metadata": {},
     "output_type": "display_data"
    },
    {
     "data": {
      "text/html": [
       "<pre>| 5       | 124.897ms    | 60.117            | 3.83731               | 0.00730151  |</pre>"
      ],
      "text/plain": [
       "| 5       | 124.897ms    | 60.117            | 3.83731               | 0.00730151  |"
      ]
     },
     "metadata": {},
     "output_type": "display_data"
    },
    {
     "data": {
      "text/html": [
       "<pre>| 6       | 234.692ms    | 47.3565           | 3.03188               | 0.00636835  |</pre>"
      ],
      "text/plain": [
       "| 6       | 234.692ms    | 47.3565           | 3.03188               | 0.00636835  |"
      ]
     },
     "metadata": {},
     "output_type": "display_data"
    },
    {
     "data": {
      "text/html": [
       "<pre>| 11      | 671.906ms    | 17.7005           | 1.34927               | 0.00404199  |</pre>"
      ],
      "text/plain": [
       "| 11      | 671.906ms    | 17.7005           | 1.34927               | 0.00404199  |"
      ]
     },
     "metadata": {},
     "output_type": "display_data"
    },
    {
     "data": {
      "text/html": [
       "<pre>+---------+--------------+-------------------+-----------------------+-------------+</pre>"
      ],
      "text/plain": [
       "+---------+--------------+-------------------+-----------------------+-------------+"
      ]
     },
     "metadata": {},
     "output_type": "display_data"
    },
    {
     "data": {
      "text/html": [
       "<pre>Optimization Complete: Maximum number of passes through the data reached.</pre>"
      ],
      "text/plain": [
       "Optimization Complete: Maximum number of passes through the data reached."
      ]
     },
     "metadata": {},
     "output_type": "display_data"
    },
    {
     "data": {
      "text/html": [
       "<pre>Computing final objective value and training RMSE.</pre>"
      ],
      "text/plain": [
       "Computing final objective value and training RMSE."
      ]
     },
     "metadata": {},
     "output_type": "display_data"
    },
    {
     "data": {
      "text/html": [
       "<pre>       Final objective value: 4.61139</pre>"
      ],
      "text/plain": [
       "       Final objective value: 4.61139"
      ]
     },
     "metadata": {},
     "output_type": "display_data"
    },
    {
     "data": {
      "text/html": [
       "<pre>       Final training RMSE: 0.40762</pre>"
      ],
      "text/plain": [
       "       Final training RMSE: 0.40762"
      ]
     },
     "metadata": {},
     "output_type": "display_data"
    }
   ],
   "source": [
    "import turicreate as tc\n",
    "\n",
    "actions = tc.SFrame.read_csv(\"/Users/kingcos/Documents/GitHub/DataCrawler/data/grades.csv\")\n",
    "items = tc.SFrame.read_csv(\"/Users/kingcos/Documents/GitHub/DataCrawler/data/subjects.csv\")\n",
    "\n",
    "training_data, validation_data = tc.recommender.util.random_split_by_user(actions, 'userId', 'subjectId', 'grade')\n",
    "model = tc.recommender.create(training_data, 'userId', 'subjectId', 'grade')"
   ]
  },
  {
   "cell_type": "code",
   "execution_count": 5,
   "metadata": {},
   "outputs": [],
   "source": [
    "results = model.recommend()"
   ]
  },
  {
   "cell_type": "code",
   "execution_count": 8,
   "metadata": {},
   "outputs": [
    {
     "name": "stdout",
     "output_type": "stream",
     "text": [
      "+--------+-----------+---------------+------+\n",
      "| userId | subjectId |     score     | rank |\n",
      "+--------+-----------+---------------+------+\n",
      "| 30005  |   47858   | 102.193213003 |  1   |\n",
      "| 30005  |   49340   | 100.098674314 |  2   |\n",
      "| 30005  |   52938   | 98.8197207616 |  3   |\n",
      "| 30005  |   57098   |  98.697846906 |  4   |\n",
      "| 30005  |   48353   | 97.8687215017 |  5   |\n",
      "| 30005  |   52936   | 96.9427275823 |  6   |\n",
      "| 30005  |   49317   | 96.8906464742 |  7   |\n",
      "| 30005  |   52939   | 95.7394251989 |  8   |\n",
      "| 30005  |   57107   | 95.7124219106 |  9   |\n",
      "| 30005  |   57105   | 95.3451476262 |  10  |\n",
      "| 30007  |   47858   | 106.380358206 |  1   |\n",
      "| 30007  |   48353   | 102.901831137 |  2   |\n",
      "| 30007  |   49317   | 102.122763144 |  3   |\n",
      "| 30007  |   49340   | 96.0831532346 |  4   |\n",
      "| 30007  |   52938   | 95.5558209286 |  5   |\n",
      "| 30007  |   57098   | 95.5025353299 |  6   |\n",
      "| 30007  |   52936   | 94.3790922032 |  7   |\n",
      "| 30007  |   57105   | 93.9254884587 |  8   |\n",
      "| 30007  |   52940   |  93.63482617  |  9   |\n",
      "| 30007  |   53016   | 93.1400370465 |  10  |\n",
      "| 30013  |   49340   | 100.785574363 |  1   |\n",
      "| 30013  |   57098   | 100.273340629 |  2   |\n",
      "| 30013  |   47858   | 100.092771934 |  3   |\n",
      "| 30013  |   52938   | 99.8508438335 |  4   |\n",
      "| 30013  |   52936   | 98.6203989254 |  5   |\n",
      "| 30013  |   52939   | 97.0669044719 |  6   |\n",
      "| 30013  |   57105   | 96.7668213115 |  7   |\n",
      "| 30013  |   48353   | 96.7067922817 |  8   |\n",
      "| 30013  |   57107   | 96.3666118847 |  9   |\n",
      "| 30013  |   52968   | 96.1977104412 |  10  |\n",
      "| 30014  |   47858   | 104.310264991 |  1   |\n",
      "| 30014  |   48353   | 100.597193168 |  2   |\n",
      "| 30014  |   49317   | 100.351408409 |  3   |\n",
      "| 30014  |   52938   | 97.7980703579 |  4   |\n",
      "| 30014  |   57098   | 97.5156463848 |  5   |\n",
      "| 30014  |   49340   | 97.3420509563 |  6   |\n",
      "| 30014  |   52936   | 96.5462030636 |  7   |\n",
      "| 30014  |   57105   |  95.748673843 |  8   |\n",
      "| 30014  |   321711  |  95.436674522 |  9   |\n",
      "| 30014  |   57107   | 94.2067355381 |  10  |\n",
      "| 30015  |   47858   | 101.926551597 |  1   |\n",
      "| 30015  |   49340   | 99.8887918161 |  2   |\n",
      "| 30015  |   48353   |  98.709256904 |  3   |\n",
      "| 30015  |   57098   | 98.1126010583 |  4   |\n",
      "| 30015  |   52938   | 97.4412057565 |  5   |\n",
      "| 30015  |   49317   | 97.1517760919 |  6   |\n",
      "| 30015  |   52936   | 96.1814878152 |  7   |\n",
      "| 30015  |   52968   | 95.9923246072 |  8   |\n",
      "| 30015  |   57105   | 94.7945945428 |  9   |\n",
      "| 30015  |   57107   | 94.4909751581 |  10  |\n",
      "| 30017  |   47858   | 102.826649921 |  1   |\n",
      "| 30017  |   48353   | 99.2351515458 |  2   |\n",
      "| 30017  |   49340   | 98.6618330644 |  3   |\n",
      "| 30017  |   57098   |  98.608341472 |  4   |\n",
      "| 30017  |   52938   | 97.8869831727 |  5   |\n",
      "| 30017  |   52936   | 97.1873057054 |  6   |\n",
      "| 30017  |   49317   |  96.63643481  |  7   |\n",
      "| 30017  |   57105   |  95.592880504 |  8   |\n",
      "| 30017  |   52968   | 95.1257107423 |  9   |\n",
      "| 30017  |   321711  | 94.8279564546 |  10  |\n",
      "| 30018  |   47858   | 104.041850047 |  1   |\n",
      "| 30018  |   48353   | 100.206814723 |  2   |\n",
      "| 30018  |   49317   | 100.172062831 |  3   |\n",
      "| 30018  |   49340   | 98.9654531048 |  4   |\n",
      "| 30018  |   57098   |  97.045018153 |  5   |\n",
      "| 30018  |   52938   | 96.2442521618 |  6   |\n",
      "| 30018  |   52936   | 95.0346355007 |  7   |\n",
      "| 30018  |   321711  |  94.056900935 |  8   |\n",
      "| 30018  |   52968   | 93.8851918743 |  9   |\n",
      "| 30018  |   52939   | 93.8276066349 |  10  |\n",
      "| 30019  |   47858   | 103.112053873 |  1   |\n",
      "| 30019  |   48353   | 99.6023178117 |  2   |\n",
      "| 30019  |   49340   |  98.540645601 |  3   |\n",
      "| 30019  |   52938   | 98.3960256593 |  4   |\n",
      "| 30019  |   49317   | 98.2502708451 |  5   |\n",
      "| 30019  |   57098   | 98.0107831971 |  6   |\n",
      "| 30019  |   52936   | 95.8957948701 |  7   |\n",
      "| 30019  |   321711  | 95.5946426408 |  8   |\n",
      "| 30019  |   52968   | 95.1837539689 |  9   |\n",
      "| 30019  |   57107   | 95.0535154359 |  10  |\n",
      "| 30035  |   48236   | 81.6098450588 |  1   |\n",
      "| 30035  |   48679   |  79.921167271 |  2   |\n",
      "| 30035  |   48584   | 79.2907895015 |  3   |\n",
      "| 30035  |   47149   |  79.001787083 |  4   |\n",
      "| 30035  |   45186   | 78.2600583003 |  5   |\n",
      "| 30035  |   47964   | 77.8226527141 |  6   |\n",
      "| 30035  |   49162   | 77.5376700328 |  7   |\n",
      "| 30035  |   48494   | 76.8537167476 |  8   |\n",
      "| 30035  |   47523   | 76.6985396312 |  9   |\n",
      "| 30035  |   48844   | 76.6005667613 |  10  |\n",
      "| 30036  |   57098   | 95.9858607219 |  1   |\n",
      "| 30036  |   52937   | 93.7460059093 |  2   |\n",
      "| 30036  |   45286   |  90.077958958 |  3   |\n",
      "| 30036  |   52940   | 87.9318198131 |  4   |\n",
      "| 30036  |   47373   | 85.9156207011 |  5   |\n",
      "| 30036  |   52982   | 85.4012659953 |  6   |\n",
      "| 30036  |   52941   | 84.6382693218 |  7   |\n",
      "| 30036  |   49340   |  84.347364323 |  8   |\n",
      "| 30036  |   50908   | 84.0538853572 |  9   |\n",
      "| 30036  |   45192   | 82.0725392268 |  10  |\n",
      "+--------+-----------+---------------+------+\n",
      "[950 rows x 4 columns]\n",
      "\n"
     ]
    }
   ],
   "source": [
    "model.recommend().print_rows(num_rows=100, num_columns=10)"
   ]
  },
  {
   "cell_type": "code",
   "execution_count": null,
   "metadata": {},
   "outputs": [],
   "source": []
  },
  {
   "cell_type": "code",
   "execution_count": null,
   "metadata": {},
   "outputs": [],
   "source": []
  },
  {
   "cell_type": "code",
   "execution_count": 6,
   "metadata": {},
   "outputs": [
    {
     "data": {
      "text/html": [
       "<div style=\"max-height:1000px;max-width:1500px;overflow:auto;\"><table frame=\"box\" rules=\"cols\">\n",
       "    <tr>\n",
       "        <th style=\"padding-left: 1em; padding-right: 1em; text-align: center\">userId</th>\n",
       "        <th style=\"padding-left: 1em; padding-right: 1em; text-align: center\">subjectId</th>\n",
       "        <th style=\"padding-left: 1em; padding-right: 1em; text-align: center\">score</th>\n",
       "        <th style=\"padding-left: 1em; padding-right: 1em; text-align: center\">rank</th>\n",
       "    </tr>\n",
       "    <tr>\n",
       "        <td style=\"padding-left: 1em; padding-right: 1em; text-align: center; vertical-align: top\">30005</td>\n",
       "        <td style=\"padding-left: 1em; padding-right: 1em; text-align: center; vertical-align: top\">47858</td>\n",
       "        <td style=\"padding-left: 1em; padding-right: 1em; text-align: center; vertical-align: top\">102.193213003</td>\n",
       "        <td style=\"padding-left: 1em; padding-right: 1em; text-align: center; vertical-align: top\">1</td>\n",
       "    </tr>\n",
       "    <tr>\n",
       "        <td style=\"padding-left: 1em; padding-right: 1em; text-align: center; vertical-align: top\">30005</td>\n",
       "        <td style=\"padding-left: 1em; padding-right: 1em; text-align: center; vertical-align: top\">49340</td>\n",
       "        <td style=\"padding-left: 1em; padding-right: 1em; text-align: center; vertical-align: top\">100.098674314</td>\n",
       "        <td style=\"padding-left: 1em; padding-right: 1em; text-align: center; vertical-align: top\">2</td>\n",
       "    </tr>\n",
       "    <tr>\n",
       "        <td style=\"padding-left: 1em; padding-right: 1em; text-align: center; vertical-align: top\">30005</td>\n",
       "        <td style=\"padding-left: 1em; padding-right: 1em; text-align: center; vertical-align: top\">52938</td>\n",
       "        <td style=\"padding-left: 1em; padding-right: 1em; text-align: center; vertical-align: top\">98.8197207616</td>\n",
       "        <td style=\"padding-left: 1em; padding-right: 1em; text-align: center; vertical-align: top\">3</td>\n",
       "    </tr>\n",
       "    <tr>\n",
       "        <td style=\"padding-left: 1em; padding-right: 1em; text-align: center; vertical-align: top\">30005</td>\n",
       "        <td style=\"padding-left: 1em; padding-right: 1em; text-align: center; vertical-align: top\">57098</td>\n",
       "        <td style=\"padding-left: 1em; padding-right: 1em; text-align: center; vertical-align: top\">98.697846906</td>\n",
       "        <td style=\"padding-left: 1em; padding-right: 1em; text-align: center; vertical-align: top\">4</td>\n",
       "    </tr>\n",
       "    <tr>\n",
       "        <td style=\"padding-left: 1em; padding-right: 1em; text-align: center; vertical-align: top\">30005</td>\n",
       "        <td style=\"padding-left: 1em; padding-right: 1em; text-align: center; vertical-align: top\">48353</td>\n",
       "        <td style=\"padding-left: 1em; padding-right: 1em; text-align: center; vertical-align: top\">97.8687215017</td>\n",
       "        <td style=\"padding-left: 1em; padding-right: 1em; text-align: center; vertical-align: top\">5</td>\n",
       "    </tr>\n",
       "    <tr>\n",
       "        <td style=\"padding-left: 1em; padding-right: 1em; text-align: center; vertical-align: top\">30005</td>\n",
       "        <td style=\"padding-left: 1em; padding-right: 1em; text-align: center; vertical-align: top\">52936</td>\n",
       "        <td style=\"padding-left: 1em; padding-right: 1em; text-align: center; vertical-align: top\">96.9427275823</td>\n",
       "        <td style=\"padding-left: 1em; padding-right: 1em; text-align: center; vertical-align: top\">6</td>\n",
       "    </tr>\n",
       "    <tr>\n",
       "        <td style=\"padding-left: 1em; padding-right: 1em; text-align: center; vertical-align: top\">30005</td>\n",
       "        <td style=\"padding-left: 1em; padding-right: 1em; text-align: center; vertical-align: top\">49317</td>\n",
       "        <td style=\"padding-left: 1em; padding-right: 1em; text-align: center; vertical-align: top\">96.8906464742</td>\n",
       "        <td style=\"padding-left: 1em; padding-right: 1em; text-align: center; vertical-align: top\">7</td>\n",
       "    </tr>\n",
       "    <tr>\n",
       "        <td style=\"padding-left: 1em; padding-right: 1em; text-align: center; vertical-align: top\">30005</td>\n",
       "        <td style=\"padding-left: 1em; padding-right: 1em; text-align: center; vertical-align: top\">52939</td>\n",
       "        <td style=\"padding-left: 1em; padding-right: 1em; text-align: center; vertical-align: top\">95.7394251989</td>\n",
       "        <td style=\"padding-left: 1em; padding-right: 1em; text-align: center; vertical-align: top\">8</td>\n",
       "    </tr>\n",
       "    <tr>\n",
       "        <td style=\"padding-left: 1em; padding-right: 1em; text-align: center; vertical-align: top\">30005</td>\n",
       "        <td style=\"padding-left: 1em; padding-right: 1em; text-align: center; vertical-align: top\">57107</td>\n",
       "        <td style=\"padding-left: 1em; padding-right: 1em; text-align: center; vertical-align: top\">95.7124219106</td>\n",
       "        <td style=\"padding-left: 1em; padding-right: 1em; text-align: center; vertical-align: top\">9</td>\n",
       "    </tr>\n",
       "    <tr>\n",
       "        <td style=\"padding-left: 1em; padding-right: 1em; text-align: center; vertical-align: top\">30005</td>\n",
       "        <td style=\"padding-left: 1em; padding-right: 1em; text-align: center; vertical-align: top\">57105</td>\n",
       "        <td style=\"padding-left: 1em; padding-right: 1em; text-align: center; vertical-align: top\">95.3451476262</td>\n",
       "        <td style=\"padding-left: 1em; padding-right: 1em; text-align: center; vertical-align: top\">10</td>\n",
       "    </tr>\n",
       "</table>\n",
       "[950 rows x 4 columns]<br/>Note: Only the head of the SFrame is printed.<br/>You can use print_rows(num_rows=m, num_columns=n) to print more rows and columns.\n",
       "</div>"
      ],
      "text/plain": [
       "Columns:\n",
       "\tuserId\tint\n",
       "\tsubjectId\tint\n",
       "\tscore\tfloat\n",
       "\trank\tint\n",
       "\n",
       "Rows: 950\n",
       "\n",
       "Data:\n",
       "+--------+-----------+---------------+------+\n",
       "| userId | subjectId |     score     | rank |\n",
       "+--------+-----------+---------------+------+\n",
       "| 30005  |   47858   | 102.193213003 |  1   |\n",
       "| 30005  |   49340   | 100.098674314 |  2   |\n",
       "| 30005  |   52938   | 98.8197207616 |  3   |\n",
       "| 30005  |   57098   |  98.697846906 |  4   |\n",
       "| 30005  |   48353   | 97.8687215017 |  5   |\n",
       "| 30005  |   52936   | 96.9427275823 |  6   |\n",
       "| 30005  |   49317   | 96.8906464742 |  7   |\n",
       "| 30005  |   52939   | 95.7394251989 |  8   |\n",
       "| 30005  |   57107   | 95.7124219106 |  9   |\n",
       "| 30005  |   57105   | 95.3451476262 |  10  |\n",
       "+--------+-----------+---------------+------+\n",
       "[950 rows x 4 columns]\n",
       "Note: Only the head of the SFrame is printed.\n",
       "You can use print_rows(num_rows=m, num_columns=n) to print more rows and columns."
      ]
     },
     "execution_count": 6,
     "metadata": {},
     "output_type": "execute_result"
    }
   ],
   "source": [
    "results"
   ]
  },
  {
   "cell_type": "code",
   "execution_count": null,
   "metadata": {},
   "outputs": [],
   "source": []
  },
  {
   "cell_type": "code",
   "execution_count": null,
   "metadata": {},
   "outputs": [],
   "source": []
  },
  {
   "cell_type": "code",
   "execution_count": null,
   "metadata": {},
   "outputs": [],
   "source": []
  },
  {
   "cell_type": "code",
   "execution_count": null,
   "metadata": {},
   "outputs": [],
   "source": []
  },
  {
   "cell_type": "code",
   "execution_count": null,
   "metadata": {},
   "outputs": [],
   "source": []
  },
  {
   "cell_type": "code",
   "execution_count": null,
   "metadata": {},
   "outputs": [],
   "source": []
  },
  {
   "cell_type": "code",
   "execution_count": null,
   "metadata": {},
   "outputs": [],
   "source": []
  },
  {
   "cell_type": "code",
   "execution_count": null,
   "metadata": {},
   "outputs": [],
   "source": []
  },
  {
   "cell_type": "code",
   "execution_count": null,
   "metadata": {},
   "outputs": [],
   "source": []
  },
  {
   "cell_type": "code",
   "execution_count": null,
   "metadata": {},
   "outputs": [],
   "source": []
  },
  {
   "cell_type": "code",
   "execution_count": null,
   "metadata": {},
   "outputs": [],
   "source": []
  },
  {
   "cell_type": "code",
   "execution_count": null,
   "metadata": {},
   "outputs": [],
   "source": []
  },
  {
   "cell_type": "code",
   "execution_count": null,
   "metadata": {},
   "outputs": [],
   "source": []
  },
  {
   "cell_type": "code",
   "execution_count": null,
   "metadata": {},
   "outputs": [],
   "source": []
  },
  {
   "cell_type": "code",
   "execution_count": null,
   "metadata": {},
   "outputs": [],
   "source": []
  },
  {
   "cell_type": "code",
   "execution_count": null,
   "metadata": {},
   "outputs": [],
   "source": []
  },
  {
   "cell_type": "code",
   "execution_count": null,
   "metadata": {},
   "outputs": [],
   "source": []
  },
  {
   "cell_type": "code",
   "execution_count": null,
   "metadata": {},
   "outputs": [],
   "source": []
  },
  {
   "cell_type": "code",
   "execution_count": null,
   "metadata": {},
   "outputs": [],
   "source": []
  },
  {
   "cell_type": "code",
   "execution_count": null,
   "metadata": {},
   "outputs": [],
   "source": []
  },
  {
   "cell_type": "code",
   "execution_count": null,
   "metadata": {},
   "outputs": [],
   "source": []
  },
  {
   "cell_type": "code",
   "execution_count": null,
   "metadata": {},
   "outputs": [],
   "source": []
  },
  {
   "cell_type": "code",
   "execution_count": null,
   "metadata": {},
   "outputs": [],
   "source": []
  },
  {
   "cell_type": "code",
   "execution_count": null,
   "metadata": {},
   "outputs": [],
   "source": []
  },
  {
   "cell_type": "code",
   "execution_count": null,
   "metadata": {},
   "outputs": [],
   "source": []
  },
  {
   "cell_type": "code",
   "execution_count": null,
   "metadata": {},
   "outputs": [],
   "source": []
  },
  {
   "cell_type": "code",
   "execution_count": null,
   "metadata": {},
   "outputs": [],
   "source": []
  },
  {
   "cell_type": "code",
   "execution_count": null,
   "metadata": {},
   "outputs": [],
   "source": []
  },
  {
   "cell_type": "code",
   "execution_count": null,
   "metadata": {},
   "outputs": [],
   "source": []
  },
  {
   "cell_type": "code",
   "execution_count": null,
   "metadata": {},
   "outputs": [],
   "source": []
  },
  {
   "cell_type": "code",
   "execution_count": null,
   "metadata": {},
   "outputs": [],
   "source": []
  }
 ],
 "metadata": {
  "kernelspec": {
   "display_name": "Python 2",
   "language": "python",
   "name": "python2"
  },
  "language_info": {
   "codemirror_mode": {
    "name": "ipython",
    "version": 2
   },
   "file_extension": ".py",
   "mimetype": "text/x-python",
   "name": "python",
   "nbconvert_exporter": "python",
   "pygments_lexer": "ipython2",
   "version": "2.7.14"
  }
 },
 "nbformat": 4,
 "nbformat_minor": 2
}
